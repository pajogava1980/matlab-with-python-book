{
 "cells": [
  {
   "cell_type": "markdown",
   "metadata": {},
   "source": [
    "### 6.2.1. Data Cleaner App\n",
    "The first step in an AI pipeline is often to clean the data. This process requires some level of interactivity for the data analyst to understand which variables she is manipulating. Once the input format of the data is fixed, this process can be automated to scale it to the whole dataset.\n",
    "\n",
    "Let’s take an example with the weather data from chapter 2. In this first example, we will start MATLAB in `-nodesktop` mode (which is the default mode for the engine). In the next two sections, we will use the `-desktop` mode to show how to use the MATLAB desktop to interact with the data, but also connect to an already running MATLAB session."
   ]
  },
  {
   "cell_type": "markdown",
   "metadata": {},
   "source": [
    "#### Set up the environment"
   ]
  },
  {
   "cell_type": "code",
   "execution_count": 6,
   "metadata": {},
   "outputs": [
    {
     "name": "stderr",
     "output_type": "stream",
     "text": [
      "Cloning into 'weather-matlab-python'...\n"
     ]
    }
   ],
   "source": [
    "!git clone https://github.com/hgorr/weather-matlab-python"
   ]
  },
  {
   "cell_type": "code",
   "execution_count": 1,
   "metadata": {},
   "outputs": [],
   "source": [
    "import matlab.engine\n",
    "m = matlab.engine.start_matlab()"
   ]
  },
  {
   "cell_type": "code",
   "execution_count": 3,
   "metadata": {},
   "outputs": [
    {
     "data": {
      "text/plain": [
       "'C:\\\\Users\\\\ydebray\\\\Downloads\\\\python-book-github\\\\code'"
      ]
     },
     "execution_count": 3,
     "metadata": {},
     "output_type": "execute_result"
    }
   ],
   "source": [
    "m.cd('weather-matlab-python') # returns the previous dir location "
   ]
  },
  {
   "cell_type": "code",
   "execution_count": 4,
   "metadata": {},
   "outputs": [
    {
     "data": {
      "text/plain": [
       "'C:\\\\Users\\\\ydebray\\\\Downloads\\\\python-book-github\\\\code\\\\weather-matlab-python'"
      ]
     },
     "execution_count": 4,
     "metadata": {},
     "output_type": "execute_result"
    }
   ],
   "source": [
    "m.pwd()"
   ]
  },
  {
   "cell_type": "code",
   "execution_count": 5,
   "metadata": {},
   "outputs": [],
   "source": [
    "# m.cd('..')"
   ]
  },
  {
   "cell_type": "code",
   "execution_count": 6,
   "metadata": {},
   "outputs": [
    {
     "data": {
      "text/plain": [
       "'c:\\\\Users\\\\ydebray\\\\Downloads\\\\python-book-github\\\\code'"
      ]
     },
     "execution_count": 6,
     "metadata": {},
     "output_type": "execute_result"
    }
   ],
   "source": [
    "# Make sure that your Python interpreter follows along\n",
    "import os\n",
    "os.getcwd()"
   ]
  },
  {
   "cell_type": "code",
   "execution_count": 7,
   "metadata": {},
   "outputs": [],
   "source": [
    "os.chdir('weather-matlab-python')"
   ]
  },
  {
   "cell_type": "code",
   "execution_count": 8,
   "metadata": {},
   "outputs": [],
   "source": [
    "# os.chdir('..')"
   ]
  },
  {
   "cell_type": "markdown",
   "metadata": {},
   "source": [
    "#### Retrieve Weather Data"
   ]
  },
  {
   "cell_type": "code",
   "execution_count": 9,
   "metadata": {},
   "outputs": [
    {
     "data": {
      "text/plain": [
       "dict_keys(['current_time', 'temp', 'deg', 'speed', 'humidity', 'pressure'])"
      ]
     },
     "execution_count": 9,
     "metadata": {},
     "output_type": "execute_result"
    }
   ],
   "source": [
    "import weather\n",
    "appid ='b1b15e88fa797225412429c1c50c122a1'\n",
    "json_data = weather.get_forecast('Muenchen','DE',appid,api='samples')\n",
    "data = weather.parse_forecast_json(json_data)\n",
    "data.keys()"
   ]
  },
  {
   "cell_type": "code",
   "execution_count": 13,
   "metadata": {},
   "outputs": [
    {
     "name": "stdout",
     "output_type": "stream",
     "text": [
      "36\n"
     ]
    },
    {
     "data": {
      "text/plain": [
       "[286.67, 285.66, 277.05, 272.78, 273.341]"
      ]
     },
     "execution_count": 13,
     "metadata": {},
     "output_type": "execute_result"
    }
   ],
   "source": [
    "print(len(data['temp']))\n",
    "data['temp'][0:5]"
   ]
  },
  {
   "cell_type": "code",
   "execution_count": 12,
   "metadata": {},
   "outputs": [
    {
     "data": {
      "text/plain": [
       "matlab.double([[286.67,285.66,277.05,272.78,273.341,275.568,276.478,276.67,278.253,276.455,275.639,275.459,275.035,274.965,274.562,275.648,277.927,278.367,273.797,271.239,269.553,268.198,267.295,272.956,277.422,277.984,272.459,269.473,268.793,268.106,267.655,273.75,279.302,279.343,274.443,272.424]])"
      ]
     },
     "execution_count": 12,
     "metadata": {},
     "output_type": "execute_result"
    }
   ],
   "source": [
    "t = matlab.double(data['temp'])\n",
    "t"
   ]
  },
  {
   "cell_type": "markdown",
   "metadata": {},
   "source": [
    "#### (Alternative) Generate synthetic data"
   ]
  },
  {
   "cell_type": "code",
   "execution_count": 29,
   "metadata": {},
   "outputs": [],
   "source": [
    "from random import random\n",
    "temp = [10 + 10*random() for _ in range(40)]"
   ]
  },
  {
   "cell_type": "code",
   "execution_count": 30,
   "metadata": {},
   "outputs": [],
   "source": [
    "# Numpy version\n",
    "import numpy as np\n",
    "temp_np = 10 + 10*np.random.rand(1,40)"
   ]
  },
  {
   "cell_type": "code",
   "execution_count": 31,
   "metadata": {},
   "outputs": [],
   "source": [
    "t = matlab.double(temp)\n",
    "m.workspace['t'] = t # carrying this variable over to the MATLAB workspace"
   ]
  },
  {
   "cell_type": "code",
   "execution_count": 13,
   "metadata": {},
   "outputs": [
    {
     "name": "stdout",
     "output_type": "stream",
     "text": [
      "\n",
      "t =\n",
      "\n",
      "  Columns 1 through 11\n",
      "\n",
      "   10.8552   12.6248   18.0101   10.2922   19.2885   17.3033   14.8861   15.7853   12.3728   14.5885   19.6309\n",
      "\n",
      "  Columns 12 through 22\n",
      "\n",
      "   15.4681   15.2114   12.3159   14.8890   16.2406   16.7914   13.9552   13.6744   19.8798   10.3774   18.8517\n",
      "\n",
      "  Columns 23 through 33\n",
      "\n",
      "   19.1329   17.9618   10.9871   12.6187   13.3536   16.7973   11.3655   17.2123   11.0676   16.5376   14.9417\n",
      "\n",
      "  Columns 34 through 40\n",
      "\n",
      "   17.7905   17.1504   19.0372   18.9092   13.3416   16.9875   11.9781\n",
      "\n",
      "\n"
     ]
    }
   ],
   "source": [
    "# Alternative: generate synthetic data directly on the MATLAB side\n",
    "out = m.evalc('t = 10 + 10*rand(1,40)')\n",
    "print(out)"
   ]
  },
  {
   "cell_type": "code",
   "execution_count": 38,
   "metadata": {},
   "outputs": [],
   "source": [
    "from datetime import datetime,timedelta\n",
    "dtime = [datetime(2024,1,1,0,0,0) + timedelta(hours=3*i) for i in range(40)]"
   ]
  },
  {
   "cell_type": "code",
   "execution_count": 39,
   "metadata": {},
   "outputs": [
    {
     "data": {
      "text/plain": [
       "'2024-01-01 00:00:00'"
      ]
     },
     "execution_count": 39,
     "metadata": {},
     "output_type": "execute_result"
    }
   ],
   "source": [
    "dtime[0].strftime('%Y-%m-%d %H:%M:%S')"
   ]
  },
  {
   "cell_type": "code",
   "execution_count": 41,
   "metadata": {},
   "outputs": [],
   "source": [
    "time = [dt.strftime('%Y-%m-%d %H:%M:%S') for dt in dtime]"
   ]
  },
  {
   "cell_type": "code",
   "execution_count": 42,
   "metadata": {},
   "outputs": [
    {
     "data": {
      "text/plain": [
       "{'current_time': ['2024-01-01 00:00:00',\n",
       "  '2024-01-01 03:00:00',\n",
       "  '2024-01-01 06:00:00',\n",
       "  '2024-01-01 09:00:00',\n",
       "  '2024-01-01 12:00:00',\n",
       "  '2024-01-01 15:00:00',\n",
       "  '2024-01-01 18:00:00',\n",
       "  '2024-01-01 21:00:00',\n",
       "  '2024-01-02 00:00:00',\n",
       "  '2024-01-02 03:00:00',\n",
       "  '2024-01-02 06:00:00',\n",
       "  '2024-01-02 09:00:00',\n",
       "  '2024-01-02 12:00:00',\n",
       "  '2024-01-02 15:00:00',\n",
       "  '2024-01-02 18:00:00',\n",
       "  '2024-01-02 21:00:00',\n",
       "  '2024-01-03 00:00:00',\n",
       "  '2024-01-03 03:00:00',\n",
       "  '2024-01-03 06:00:00',\n",
       "  '2024-01-03 09:00:00',\n",
       "  '2024-01-03 12:00:00',\n",
       "  '2024-01-03 15:00:00',\n",
       "  '2024-01-03 18:00:00',\n",
       "  '2024-01-03 21:00:00',\n",
       "  '2024-01-04 00:00:00',\n",
       "  '2024-01-04 03:00:00',\n",
       "  '2024-01-04 06:00:00',\n",
       "  '2024-01-04 09:00:00',\n",
       "  '2024-01-04 12:00:00',\n",
       "  '2024-01-04 15:00:00',\n",
       "  '2024-01-04 18:00:00',\n",
       "  '2024-01-04 21:00:00',\n",
       "  '2024-01-05 00:00:00',\n",
       "  '2024-01-05 03:00:00',\n",
       "  '2024-01-05 06:00:00',\n",
       "  '2024-01-05 09:00:00',\n",
       "  '2024-01-05 12:00:00',\n",
       "  '2024-01-05 15:00:00',\n",
       "  '2024-01-05 18:00:00',\n",
       "  '2024-01-05 21:00:00'],\n",
       " 'temp': [15.203420533803373,\n",
       "  18.832429218561565,\n",
       "  11.1028746075677,\n",
       "  16.486245898821295,\n",
       "  17.64806072708874,\n",
       "  14.939545302736278,\n",
       "  19.745972081602794,\n",
       "  13.44302140089711,\n",
       "  13.35484381982943,\n",
       "  19.47328972629867,\n",
       "  14.223199059488792,\n",
       "  11.843104541486037,\n",
       "  15.776326822257468,\n",
       "  11.1972239555096,\n",
       "  11.15823852363039,\n",
       "  10.048625647715584,\n",
       "  12.983288997582186,\n",
       "  15.829753890964826,\n",
       "  13.963600829694869,\n",
       "  16.548729504739057,\n",
       "  16.95600662442131,\n",
       "  11.849674077416237,\n",
       "  15.087324927803571,\n",
       "  12.847878330379515,\n",
       "  14.75037124696215,\n",
       "  17.629549874044287,\n",
       "  14.007813869749771,\n",
       "  11.572783607001128,\n",
       "  16.441642488826933,\n",
       "  17.1460487813968,\n",
       "  18.430694343740747,\n",
       "  13.290468888000763,\n",
       "  14.419937435716287,\n",
       "  12.042603649493985,\n",
       "  18.258519912616975,\n",
       "  19.42915194280243,\n",
       "  19.31239388572355,\n",
       "  14.846594202113135,\n",
       "  17.464566114269473,\n",
       "  11.17224026541196]}"
      ]
     },
     "execution_count": 42,
     "metadata": {},
     "output_type": "execute_result"
    }
   ],
   "source": [
    "data = {'current_time':time,'temp':temp}\n",
    "data"
   ]
  },
  {
   "cell_type": "markdown",
   "metadata": {},
   "source": [
    "#### Format into a Timetable"
   ]
  },
  {
   "cell_type": "code",
   "execution_count": 14,
   "metadata": {},
   "outputs": [],
   "source": [
    "# Transform into a timetable for data cleaning\n",
    "m.workspace['data'] = data\n",
    "m.eval(\"TT = timetable(datetime(string(data.current_time))',cell2mat(data.temp)','VariableNames',{'Temp'})\",nargout=0)"
   ]
  },
  {
   "cell_type": "code",
   "execution_count": 15,
   "metadata": {},
   "outputs": [
    {
     "data": {
      "text/plain": [
       "['TT', 'data']"
      ]
     },
     "execution_count": 15,
     "metadata": {},
     "output_type": "execute_result"
    }
   ],
   "source": [
    "m.who()"
   ]
  },
  {
   "cell_type": "markdown",
   "metadata": {},
   "source": [
    "On the MATLAB side, creates a timetable:\n",
    "\n",
    "```\n",
    "TT = timetable(datetime(string(data.current_time))',cell2mat(data.temp)','VariableNames',{'Temp'})\n",
    "```\n",
    "Another alternative is to create a csv file to import from MATLAB"
   ]
  },
  {
   "cell_type": "code",
   "execution_count": null,
   "metadata": {},
   "outputs": [],
   "source": [
    "import csv\n",
    "with open(\"data.csv\",\"w\") as f:\n",
    "    write = csv.writer(f,lineterminator = '\\n')\n",
    "    write.writerow(['Time','Temp'])\n",
    "    write.writerows([[data['current_time'][i],data['temp'][i]] for i in range(36)])"
   ]
  },
  {
   "cell_type": "markdown",
   "metadata": {},
   "source": [
    "#### Interact manually with the app"
   ]
  },
  {
   "cell_type": "code",
   "execution_count": 16,
   "metadata": {},
   "outputs": [],
   "source": [
    "m.dataCleaner(nargout=0)"
   ]
  },
  {
   "cell_type": "code",
   "execution_count": null,
   "metadata": {},
   "outputs": [],
   "source": [
    "# In case you need to interact with the MATLAB desktop\n",
    "m.desktop(nargout=0)"
   ]
  },
  {
   "cell_type": "markdown",
   "metadata": {},
   "source": [
    "#### Export the cleaning steps"
   ]
  },
  {
   "cell_type": "markdown",
   "metadata": {},
   "source": [
    "Export the processing steps as a function `preprocess.m`"
   ]
  },
  {
   "cell_type": "code",
   "execution_count": 17,
   "metadata": {},
   "outputs": [],
   "source": [
    "TT = m.workspace['TT']\n",
    "TT2 = m.preprocess(TT)\n",
    "m.parquetwrite(\"data.parquet\",TT2,nargout=0)"
   ]
  },
  {
   "cell_type": "code",
   "execution_count": 18,
   "metadata": {},
   "outputs": [
    {
     "data": {
      "text/plain": [
       "<Axes: >"
      ]
     },
     "execution_count": 18,
     "metadata": {},
     "output_type": "execute_result"
    },
    {
     "data": {
      "image/png": "[encoded data removed]",
      "text/plain": [
       "<Figure size 640x480 with 1 Axes>"
      ]
     },
     "metadata": {},
     "output_type": "display_data"
    }
   ],
   "source": [
    "import pandas as pd\n",
    "pd.read_parquet('data.parquet').plot(y='Temp')"
   ]
  },
  {
   "cell_type": "code",
   "execution_count": 19,
   "metadata": {},
   "outputs": [],
   "source": [
    "m.exit()"
   ]
  }
 ],
 "metadata": {
  "kernelspec": {
   "display_name": "Python 3 (ipykernel)",
   "language": "python",
   "name": "python3"
  },
  "language_info": {
   "codemirror_mode": {
    "name": "ipython",
    "version": 3
   },
   "file_extension": ".py",
   "mimetype": "text/x-python",
   "name": "python",
   "nbconvert_exporter": "python",
   "pygments_lexer": "ipython3",
   "version": "3.10.10"
  }
 },
 "nbformat": 4,
 "nbformat_minor": 4
}
