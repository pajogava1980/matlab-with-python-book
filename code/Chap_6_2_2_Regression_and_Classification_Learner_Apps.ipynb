{
 "cells": [
  {
   "attachments": {},
   "cell_type": "markdown",
   "metadata": {},
   "source": [
    "### 6.2.2. Regression and Classification Learner Apps\n",
    "We will take the Boston housing example that is part of the Scikit-Learn sample datasets to call MATLAB from Python. \n",
    "Open a Jupyter notebook and connect to a running MATLAB session from Python: "
   ]
  },
  {
   "cell_type": "code",
   "execution_count": 2,
   "metadata": {},
   "outputs": [],
   "source": [
    "import matlab.engine \n",
    "m = matlab.engine.connect_matlab('MATLAB_17636')"
   ]
  },
  {
   "attachments": {},
   "cell_type": "markdown",
   "metadata": {},
   "source": [
    "Retrieve the dataset"
   ]
  },
  {
   "cell_type": "code",
   "execution_count": 10,
   "metadata": {},
   "outputs": [],
   "source": [
    "import sklearn.datasets\n",
    "dataset = sklearn.datasets.load_boston()"
   ]
  },
  {
   "cell_type": "code",
   "execution_count": 11,
   "metadata": {},
   "outputs": [
    {
     "data": {
      "text/plain": [
       "dict_keys(['data', 'target', 'feature_names', 'DESCR', 'filename', 'data_module'])"
      ]
     },
     "execution_count": 11,
     "metadata": {},
     "output_type": "execute_result"
    }
   ],
   "source": [
    "dataset.keys()"
   ]
  },
  {
   "cell_type": "code",
   "execution_count": 9,
   "metadata": {},
   "outputs": [],
   "source": [
    "data = dataset['data']\n",
    "target = dataset['target']"
   ]
  },
  {
   "attachments": {},
   "cell_type": "markdown",
   "metadata": {},
   "source": [
    "Depending on the version of MATLAB you are you using, you might require converting the data and target arrays to MATLAB double:\n",
    "-\tBefore 22a, Numpy arrays were not accepted, so you need to translate them to lists.\n",
    "-\tIn 22a, Numpy arrays can be passed into MATLAB object constructor (double, int32, …).\n",
    "-\tFrom 22b, Numpy arrays can be passed directly into MATLAB functions."
   ]
  },
  {
   "cell_type": "code",
   "execution_count": 12,
   "metadata": {},
   "outputs": [],
   "source": [
    "# Before 22a\n",
    "X_m = matlab.double(data.tolist())\n",
    "Y_m = matlab.double(target.tolist())\n",
    "# In 22a\n",
    "X_m = matlab.double(data)\n",
    "Y_m = matlab.double(target)\n",
    "# From 22b\n",
    "X_m = data\n",
    "Y_m = target"
   ]
  },
  {
   "cell_type": "code",
   "execution_count": 13,
   "metadata": {},
   "outputs": [],
   "source": [
    "m.regressionLearner(X_m,Y_m,nargout=0)"
   ]
  },
  {
   "attachments": {},
   "cell_type": "markdown",
   "metadata": {},
   "source": [
    "The session is automatically created in the Regression Learner, with the passed data:\n",
    "\n",
    "![](../media/image105.png)\n",
    "\n",
    "You have several models and categories to choose from:\n",
    "\n",
    "![](../media/image106.png)\n",
    "\n",
    "You can visualize certain indicators during the training:\n",
    "\n",
    "![](../media/image107.png)\n",
    "![](../media/image108.png)\n",
    "![](../media/image109.png)\n",
    "\n",
    "\n",
    "Once you are happy with one of the models you’ve trained, you can generate a function or export it:\n",
    "\n",
    "![](../media/image110.png)\n",
    "\n",
    "Informations are shared in the MATLAB Command Window: \n",
    "```\n",
    "Variables have been created in the base workspace. Structure 'trainedModel' exported from Regression Learner. To make predictions on a new predictor column matrix, X: yfit = trainedModel.predictFcn(X) For more information, see How to predict using an exported model.\n",
    "```\n",
    "\n",
    "Finally, you can retrieve the model to assign the prediction function to a variable in Python:\n"
   ]
  },
  {
   "cell_type": "code",
   "execution_count": 14,
   "metadata": {},
   "outputs": [
    {
     "data": {
      "text/plain": [
       "['predictFcn', 'RegressionTree', 'About', 'HowToPredict']"
      ]
     },
     "execution_count": 14,
     "metadata": {},
     "output_type": "execute_result"
    }
   ],
   "source": [
    "model = m.workspace['trainedModel']\n",
    "m.fieldnames(model)"
   ]
  },
  {
   "cell_type": "code",
   "execution_count": 15,
   "metadata": {},
   "outputs": [],
   "source": [
    "predFcn = model.get('predictFcn')"
   ]
  },
  {
   "attachments": {},
   "cell_type": "markdown",
   "metadata": {},
   "source": [
    "This way, you can test the model directly from within Python:"
   ]
  },
  {
   "cell_type": "code",
   "execution_count": 16,
   "metadata": {},
   "outputs": [
    {
     "data": {
      "text/plain": [
       "(array([6.320e-03, 1.800e+01, 2.310e+00, 0.000e+00, 5.380e-01, 6.575e+00,\n",
       "        6.520e+01, 4.090e+00, 1.000e+00, 2.960e+02, 1.530e+01, 3.969e+02,\n",
       "        4.980e+00]),\n",
       " 24.0)"
      ]
     },
     "execution_count": 16,
     "metadata": {},
     "output_type": "execute_result"
    }
   ],
   "source": [
    "X_test = data[0]\n",
    "y_test = target[0]\n",
    "X_test,y_test"
   ]
  },
  {
   "cell_type": "code",
   "execution_count": 17,
   "metadata": {},
   "outputs": [
    {
     "data": {
      "text/plain": [
       "23.46666666666667"
      ]
     },
     "execution_count": 17,
     "metadata": {},
     "output_type": "execute_result"
    }
   ],
   "source": [
    "m.feval(predFcn,X_test)"
   ]
  },
  {
   "attachments": {},
   "cell_type": "markdown",
   "metadata": {},
   "source": [
    "You can iterate and test another model to see if the predictions are closer to the test target."
   ]
  }
 ],
 "metadata": {
  "kernelspec": {
   "display_name": "Python 3",
   "language": "python",
   "name": "python3"
  },
  "language_info": {
   "codemirror_mode": {
    "name": "ipython",
    "version": 3
   },
   "file_extension": ".py",
   "mimetype": "text/x-python",
   "name": "python",
   "nbconvert_exporter": "python",
   "pygments_lexer": "ipython3",
   "version": "3.10.4"
  },
  "orig_nbformat": 4
 },
 "nbformat": 4,
 "nbformat_minor": 2
}
