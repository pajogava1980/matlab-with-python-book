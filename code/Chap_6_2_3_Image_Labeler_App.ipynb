{
 "cells": [
  {
   "attachments": {},
   "cell_type": "markdown",
   "metadata": {},
   "source": [
    "### 6.2.3. Image Labeler App\n",
    "Data preparation is key in developing Machine Learning and Deep Learning applications. No matter how much effort you put into your ML model, it will likely perform poorly if you didn’t spend the right time in preparing your data to be consumed by your model. In this example, we start with a set of images to label for a Deep Learning application. "
   ]
  },
  {
   "cell_type": "code",
   "execution_count": 2,
   "metadata": {},
   "outputs": [
    {
     "data": {
      "text/plain": [
       "'c:\\\\Users\\\\ydebray\\\\Downloads\\\\matlab-with-python-book\\\\code\\\\vehicleImages'"
      ]
     },
     "execution_count": 2,
     "metadata": {},
     "output_type": "execute_result"
    }
   ],
   "source": [
    "import os\n",
    "cwd = os.getcwd()\n",
    "vehicleImagesPath = os.path.join(cwd, \"vehicleImages\")\n",
    "vehicleImagesPath"
   ]
  },
  {
   "attachments": {},
   "cell_type": "markdown",
   "metadata": {},
   "source": [
    "We then start the MATLAB Engine API for Python and open the Image Labeler App, passing the location of the images as an input:"
   ]
  },
  {
   "cell_type": "code",
   "execution_count": 1,
   "metadata": {},
   "outputs": [],
   "source": [
    "import matlab.engine\n",
    "# m = matlab.engine.connect_matlab()\n",
    "m = matlab.engine.start_matlab()"
   ]
  },
  {
   "cell_type": "code",
   "execution_count": 3,
   "metadata": {},
   "outputs": [],
   "source": [
    "m.imageLabeler(vehicleImagesPath, nargout=0)"
   ]
  },
  {
   "attachments": {},
   "cell_type": "markdown",
   "metadata": {},
   "source": [
    "\n",
    "![](../media/image112.jpeg)\n",
    "\n",
    "*Note that because the App returns no output arguments back to Python, you need to specify `nargout=0` (number of output arguments equals 0).*\n",
    "\n",
    "Now you can interactively create a new ROI Label:\n",
    "\n",
    "![](../media/image113.jpeg)\n",
    "\n",
    "and start to manually label your vehicles:\n",
    "\n",
    "![](../media/image114.jpeg)\n",
    "\n",
    "This process is rather tedious, especially considering that the number of required labeled images for the problem might be significant for Deep Learning workflows. Thus, the following shows how to facilitate labeling by automating (or semi-automating) the labeling process. After selecting the images you would like to automatically label, you can choose among various algorithms (*ACF vehicle detector, ACF people detector*, or import your custom detector). In this particular case, after choosing *ACF vehicle detector*, the selected images are automatically labeled. Earlier I mentioned that the process is semi-automated, as it might not detect all vehicles, or you might want to correct some bounding boxes before exporting your results.\n",
    "\n",
    "Finally, export your labeling process as a MATLAB table to continue your work back in Python:\n",
    "\n",
    "![](../media/image115.jpeg)\n",
    "\n",
    "Back in Python, gather the variables you are interested in:"
   ]
  },
  {
   "cell_type": "code",
   "execution_count": 4,
   "metadata": {},
   "outputs": [],
   "source": [
    "imageFilename = m.eval(\"gTruth.imageFilename\")\n",
    "labels = m.eval(\"gTruth.vehicle\")"
   ]
  },
  {
   "attachments": {},
   "cell_type": "markdown",
   "metadata": {},
   "source": [
    "and put them into a convenient form to continue your work:"
   ]
  },
  {
   "cell_type": "code",
   "execution_count": 5,
   "metadata": {},
   "outputs": [
    {
     "data": {
      "text/html": [
       "<div>\n",
       "<style scoped>\n",
       "    .dataframe tbody tr th:only-of-type {\n",
       "        vertical-align: middle;\n",
       "    }\n",
       "\n",
       "    .dataframe tbody tr th {\n",
       "        vertical-align: top;\n",
       "    }\n",
       "\n",
       "    .dataframe thead th {\n",
       "        text-align: right;\n",
       "    }\n",
       "</style>\n",
       "<table border=\"1\" class=\"dataframe\">\n",
       "  <thead>\n",
       "    <tr style=\"text-align: right;\">\n",
       "      <th></th>\n",
       "      <th>imageFileName</th>\n",
       "      <th>vehicle</th>\n",
       "    </tr>\n",
       "  </thead>\n",
       "  <tbody>\n",
       "    <tr>\n",
       "      <th>0</th>\n",
       "      <td>c:\\Users\\ydebray\\Downloads\\matlab-with-python-...</td>\n",
       "      <td>[[222.0, 138.0, 38.0, 28.0]]</td>\n",
       "    </tr>\n",
       "    <tr>\n",
       "      <th>1</th>\n",
       "      <td>c:\\Users\\ydebray\\Downloads\\matlab-with-python-...</td>\n",
       "      <td>[]</td>\n",
       "    </tr>\n",
       "    <tr>\n",
       "      <th>2</th>\n",
       "      <td>c:\\Users\\ydebray\\Downloads\\matlab-with-python-...</td>\n",
       "      <td>[]</td>\n",
       "    </tr>\n",
       "    <tr>\n",
       "      <th>3</th>\n",
       "      <td>c:\\Users\\ydebray\\Downloads\\matlab-with-python-...</td>\n",
       "      <td>[[251.0, 106.0, 93.0, 58.0]]</td>\n",
       "    </tr>\n",
       "    <tr>\n",
       "      <th>4</th>\n",
       "      <td>c:\\Users\\ydebray\\Downloads\\matlab-with-python-...</td>\n",
       "      <td>[[254.0, 122.0, 52.0, 32.0]]</td>\n",
       "    </tr>\n",
       "    <tr>\n",
       "      <th>5</th>\n",
       "      <td>c:\\Users\\ydebray\\Downloads\\matlab-with-python-...</td>\n",
       "      <td>[]</td>\n",
       "    </tr>\n",
       "    <tr>\n",
       "      <th>6</th>\n",
       "      <td>c:\\Users\\ydebray\\Downloads\\matlab-with-python-...</td>\n",
       "      <td>[]</td>\n",
       "    </tr>\n",
       "    <tr>\n",
       "      <th>7</th>\n",
       "      <td>c:\\Users\\ydebray\\Downloads\\matlab-with-python-...</td>\n",
       "      <td>[[116.0, 122.0, 40.0, 25.0], [162.0, 121.0, 62...</td>\n",
       "    </tr>\n",
       "    <tr>\n",
       "      <th>8</th>\n",
       "      <td>c:\\Users\\ydebray\\Downloads\\matlab-with-python-...</td>\n",
       "      <td>[[68.0, 125.0, 68.0, 42.0]]</td>\n",
       "    </tr>\n",
       "    <tr>\n",
       "      <th>9</th>\n",
       "      <td>c:\\Users\\ydebray\\Downloads\\matlab-with-python-...</td>\n",
       "      <td>[[174.0, 125.0, 56.0, 35.0], [28.0, 116.0, 93....</td>\n",
       "    </tr>\n",
       "    <tr>\n",
       "      <th>10</th>\n",
       "      <td>c:\\Users\\ydebray\\Downloads\\matlab-with-python-...</td>\n",
       "      <td>[]</td>\n",
       "    </tr>\n",
       "    <tr>\n",
       "      <th>11</th>\n",
       "      <td>c:\\Users\\ydebray\\Downloads\\matlab-with-python-...</td>\n",
       "      <td>[[219.0, 120.0, 44.0, 27.0], [124.0, 116.0, 48...</td>\n",
       "    </tr>\n",
       "    <tr>\n",
       "      <th>12</th>\n",
       "      <td>c:\\Users\\ydebray\\Downloads\\matlab-with-python-...</td>\n",
       "      <td>[]</td>\n",
       "    </tr>\n",
       "    <tr>\n",
       "      <th>13</th>\n",
       "      <td>c:\\Users\\ydebray\\Downloads\\matlab-with-python-...</td>\n",
       "      <td>[[32.0, 118.0, 40.0, 25.0], [76.0, 110.0, 40.0...</td>\n",
       "    </tr>\n",
       "    <tr>\n",
       "      <th>14</th>\n",
       "      <td>c:\\Users\\ydebray\\Downloads\\matlab-with-python-...</td>\n",
       "      <td>[[276.0, 95.0, 102.0, 64.0]]</td>\n",
       "    </tr>\n",
       "    <tr>\n",
       "      <th>15</th>\n",
       "      <td>c:\\Users\\ydebray\\Downloads\\matlab-with-python-...</td>\n",
       "      <td>[]</td>\n",
       "    </tr>\n",
       "    <tr>\n",
       "      <th>16</th>\n",
       "      <td>c:\\Users\\ydebray\\Downloads\\matlab-with-python-...</td>\n",
       "      <td>[]</td>\n",
       "    </tr>\n",
       "    <tr>\n",
       "      <th>17</th>\n",
       "      <td>c:\\Users\\ydebray\\Downloads\\matlab-with-python-...</td>\n",
       "      <td>[]</td>\n",
       "    </tr>\n",
       "    <tr>\n",
       "      <th>18</th>\n",
       "      <td>c:\\Users\\ydebray\\Downloads\\matlab-with-python-...</td>\n",
       "      <td>[[136.0, 58.0, 171.0, 107.0]]</td>\n",
       "    </tr>\n",
       "    <tr>\n",
       "      <th>19</th>\n",
       "      <td>c:\\Users\\ydebray\\Downloads\\matlab-with-python-...</td>\n",
       "      <td>[[102.0, 41.0, 171.0, 107.0]]</td>\n",
       "    </tr>\n",
       "    <tr>\n",
       "      <th>20</th>\n",
       "      <td>c:\\Users\\ydebray\\Downloads\\matlab-with-python-...</td>\n",
       "      <td>[]</td>\n",
       "    </tr>\n",
       "    <tr>\n",
       "      <th>21</th>\n",
       "      <td>c:\\Users\\ydebray\\Downloads\\matlab-with-python-...</td>\n",
       "      <td>[[68.0, 31.0, 226.0, 141.0], [0.5, 0.5, 340.0,...</td>\n",
       "    </tr>\n",
       "  </tbody>\n",
       "</table>\n",
       "</div>"
      ],
      "text/plain": [
       "                                        imageFileName   \n",
       "0   c:\\Users\\ydebray\\Downloads\\matlab-with-python-...  \\\n",
       "1   c:\\Users\\ydebray\\Downloads\\matlab-with-python-...   \n",
       "2   c:\\Users\\ydebray\\Downloads\\matlab-with-python-...   \n",
       "3   c:\\Users\\ydebray\\Downloads\\matlab-with-python-...   \n",
       "4   c:\\Users\\ydebray\\Downloads\\matlab-with-python-...   \n",
       "5   c:\\Users\\ydebray\\Downloads\\matlab-with-python-...   \n",
       "6   c:\\Users\\ydebray\\Downloads\\matlab-with-python-...   \n",
       "7   c:\\Users\\ydebray\\Downloads\\matlab-with-python-...   \n",
       "8   c:\\Users\\ydebray\\Downloads\\matlab-with-python-...   \n",
       "9   c:\\Users\\ydebray\\Downloads\\matlab-with-python-...   \n",
       "10  c:\\Users\\ydebray\\Downloads\\matlab-with-python-...   \n",
       "11  c:\\Users\\ydebray\\Downloads\\matlab-with-python-...   \n",
       "12  c:\\Users\\ydebray\\Downloads\\matlab-with-python-...   \n",
       "13  c:\\Users\\ydebray\\Downloads\\matlab-with-python-...   \n",
       "14  c:\\Users\\ydebray\\Downloads\\matlab-with-python-...   \n",
       "15  c:\\Users\\ydebray\\Downloads\\matlab-with-python-...   \n",
       "16  c:\\Users\\ydebray\\Downloads\\matlab-with-python-...   \n",
       "17  c:\\Users\\ydebray\\Downloads\\matlab-with-python-...   \n",
       "18  c:\\Users\\ydebray\\Downloads\\matlab-with-python-...   \n",
       "19  c:\\Users\\ydebray\\Downloads\\matlab-with-python-...   \n",
       "20  c:\\Users\\ydebray\\Downloads\\matlab-with-python-...   \n",
       "21  c:\\Users\\ydebray\\Downloads\\matlab-with-python-...   \n",
       "\n",
       "                                              vehicle  \n",
       "0                        [[222.0, 138.0, 38.0, 28.0]]  \n",
       "1                                                  []  \n",
       "2                                                  []  \n",
       "3                        [[251.0, 106.0, 93.0, 58.0]]  \n",
       "4                        [[254.0, 122.0, 52.0, 32.0]]  \n",
       "5                                                  []  \n",
       "6                                                  []  \n",
       "7   [[116.0, 122.0, 40.0, 25.0], [162.0, 121.0, 62...  \n",
       "8                         [[68.0, 125.0, 68.0, 42.0]]  \n",
       "9   [[174.0, 125.0, 56.0, 35.0], [28.0, 116.0, 93....  \n",
       "10                                                 []  \n",
       "11  [[219.0, 120.0, 44.0, 27.0], [124.0, 116.0, 48...  \n",
       "12                                                 []  \n",
       "13  [[32.0, 118.0, 40.0, 25.0], [76.0, 110.0, 40.0...  \n",
       "14                       [[276.0, 95.0, 102.0, 64.0]]  \n",
       "15                                                 []  \n",
       "16                                                 []  \n",
       "17                                                 []  \n",
       "18                      [[136.0, 58.0, 171.0, 107.0]]  \n",
       "19                      [[102.0, 41.0, 171.0, 107.0]]  \n",
       "20                                                 []  \n",
       "21  [[68.0, 31.0, 226.0, 141.0], [0.5, 0.5, 340.0,...  "
      ]
     },
     "execution_count": 5,
     "metadata": {},
     "output_type": "execute_result"
    }
   ],
   "source": [
    "import pandas as pd\n",
    "import numpy as np\n",
    "# Bring data to convenient form as DataFrame\n",
    "labels = [np.array(x) for x in labels]\n",
    "df = pd.DataFrame({\"imageFileName\":imageFilename, \"vehicle\":labels})\n",
    "df"
   ]
  },
  {
   "attachments": {},
   "cell_type": "markdown",
   "metadata": {},
   "source": [
    "Labeled data is now conveniently shaped into a DataFrame with information regarding file location and bounding boxes for each vehicle, and can be easily accessed:"
   ]
  },
  {
   "cell_type": "code",
   "execution_count": 7,
   "metadata": {},
   "outputs": [
    {
     "data": {
      "text/html": [
       "<div>\n",
       "<style scoped>\n",
       "    .dataframe tbody tr th:only-of-type {\n",
       "        vertical-align: middle;\n",
       "    }\n",
       "\n",
       "    .dataframe tbody tr th {\n",
       "        vertical-align: top;\n",
       "    }\n",
       "\n",
       "    .dataframe thead th {\n",
       "        text-align: right;\n",
       "    }\n",
       "</style>\n",
       "<table border=\"1\" class=\"dataframe\">\n",
       "  <thead>\n",
       "    <tr style=\"text-align: right;\">\n",
       "      <th></th>\n",
       "      <th>imageFileName</th>\n",
       "      <th>vehicle</th>\n",
       "    </tr>\n",
       "  </thead>\n",
       "  <tbody>\n",
       "    <tr>\n",
       "      <th>13</th>\n",
       "      <td>c:\\Users\\ydebray\\Downloads\\matlab-with-python-...</td>\n",
       "      <td>[[32.0, 118.0, 40.0, 25.0], [76.0, 110.0, 40.0...</td>\n",
       "    </tr>\n",
       "  </tbody>\n",
       "</table>\n",
       "</div>"
      ],
      "text/plain": [
       "                                        imageFileName   \n",
       "13  c:\\Users\\ydebray\\Downloads\\matlab-with-python-...  \\\n",
       "\n",
       "                                              vehicle  \n",
       "13  [[32.0, 118.0, 40.0, 25.0], [76.0, 110.0, 40.0...  "
      ]
     },
     "execution_count": 7,
     "metadata": {},
     "output_type": "execute_result"
    }
   ],
   "source": [
    "df.iloc[[13]]"
   ]
  },
  {
   "cell_type": "code",
   "execution_count": 6,
   "metadata": {},
   "outputs": [],
   "source": [
    "m.exit()"
   ]
  }
 ],
 "metadata": {
  "kernelspec": {
   "display_name": "Python 3",
   "language": "python",
   "name": "python3"
  },
  "language_info": {
   "codemirror_mode": {
    "name": "ipython",
    "version": 3
   },
   "file_extension": ".py",
   "mimetype": "text/x-python",
   "name": "python",
   "nbconvert_exporter": "python",
   "pygments_lexer": "ipython3",
   "version": "3.10.10"
  },
  "orig_nbformat": 4
 },
 "nbformat": 4,
 "nbformat_minor": 2
}
